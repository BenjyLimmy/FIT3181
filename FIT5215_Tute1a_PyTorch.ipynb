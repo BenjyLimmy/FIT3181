{
  "nbformat": 4,
  "nbformat_minor": 0,
  "metadata": {
    "colab": {
      "provenance": [],
      "include_colab_link": true
    },
    "kernelspec": {
      "name": "python3",
      "display_name": "Python 3"
    },
    "language_info": {
      "name": "python"
    }
  },
  "cells": [
    {
      "cell_type": "markdown",
      "metadata": {
        "id": "view-in-github",
        "colab_type": "text"
      },
      "source": [
        "<a href=\"https://colab.research.google.com/github/BenjyLimmy/FIT3181/blob/main/FIT5215_Tute1a_PyTorch.ipynb\" target=\"_parent\"><img src=\"https://colab.research.google.com/assets/colab-badge.svg\" alt=\"Open In Colab\"/></a>"
      ]
    },
    {
      "cell_type": "markdown",
      "source": [
        "# <span style=\"color:#0b486b\">  FIT3181/5215: Deep Learning (2024)</span>\n",
        "***\n",
        "*CE/Lecturer (Clayton):*  **Dr Trung Le** | trunglm@monash.edu <br/>\n",
        "*Lecturer (Clayton):* **Prof Dinh Phung** | dinh.phung@monash.edu <br/>\n",
        "*Lecturer (Malaysia):*  **Dr Arghya Pal** | arghya.pal@monash.edu <br/>\n",
        "*Lecturer (Malaysia):*  **Dr Lim Chern Hong** | lim.chernhong@monash.edu <br/>  <br/>\n",
        "*Head Tutor 3181:*  **Miss Vy Vo** |  \\[tran.vo@monash.edu \\] <br/>\n",
        "*Head Tutor 5215:*  **Dr Van Nguyen** |  \\[van.nguyen1@monash.edu \\]\n",
        "\n",
        "<br/> <br/>\n",
        "Faculty of Information Technology, Monash University, Australia\n",
        "***"
      ],
      "metadata": {
        "id": "ap0jPCHTIyui"
      }
    },
    {
      "cell_type": "markdown",
      "source": [
        "# Tutorial 1a: Introduction to PyTorch\n",
        "\n",
        "\n",
        "`Acknowledgement:` This tutorial is developed based on [this Google Colab tutorial](https://colab.research.google.com/github/mrdbourke/pytorch-deep-learning/blob/main/00_pytorch_fundamentals.ipynb#scrollTo=XFVEgrKhTGfD)."
      ],
      "metadata": {
        "id": "Knf1FF97JBXz"
      }
    },
    {
      "cell_type": "markdown",
      "source": [
        "## Importing PyTorch\n",
        "\n",
        "Let's start by importing PyTorch and checking its version."
      ],
      "metadata": {
        "id": "TIqOg2TTJlE_"
      }
    },
    {
      "cell_type": "code",
      "source": [
        "import torch\n",
        "torch.__version__"
      ],
      "metadata": {
        "colab": {
          "base_uri": "https://localhost:8080/",
          "height": 35
        },
        "id": "yzoYQLXQJ0eD",
        "outputId": "891b9411-43d5-451e-de53-b687b39beeba"
      },
      "execution_count": null,
      "outputs": [
        {
          "output_type": "execute_result",
          "data": {
            "text/plain": [
              "'2.3.1+cu121'"
            ],
            "application/vnd.google.colaboratory.intrinsic+json": {
              "type": "string"
            }
          },
          "metadata": {},
          "execution_count": 1
        }
      ]
    },
    {
      "cell_type": "markdown",
      "source": [
        "## Introduction to Tensors\n",
        "\n",
        "First, we create a `scalar` with the value `7`."
      ],
      "metadata": {
        "id": "6WBCEgeQJ9MP"
      }
    },
    {
      "cell_type": "code",
      "source": [
        "scalar = torch.tensor(7)\n",
        "scalar"
      ],
      "metadata": {
        "colab": {
          "base_uri": "https://localhost:8080/"
        },
        "id": "wXDq0mTkKcMj",
        "outputId": "b3088c78-eac1-4b99-d0e9-98c6ad53624f"
      },
      "execution_count": null,
      "outputs": [
        {
          "output_type": "execute_result",
          "data": {
            "text/plain": [
              "tensor(7)"
            ]
          },
          "metadata": {},
          "execution_count": 2
        }
      ]
    },
    {
      "cell_type": "code",
      "source": [
        "print(scalar.item())"
      ],
      "metadata": {
        "colab": {
          "base_uri": "https://localhost:8080/"
        },
        "id": "Ihsw3uICcDpb",
        "outputId": "bf8f1202-37e1-47f3-9ac1-f981ace9ffc1"
      },
      "execution_count": null,
      "outputs": [
        {
          "output_type": "stream",
          "name": "stdout",
          "text": [
            "7\n"
          ]
        }
      ]
    },
    {
      "cell_type": "code",
      "source": [],
      "metadata": {
        "id": "KdXMlI15bDHb"
      },
      "execution_count": null,
      "outputs": []
    },
    {
      "cell_type": "markdown",
      "source": [
        "We now create an `1D` vector"
      ],
      "metadata": {
        "id": "2xTugQCvcUdN"
      }
    },
    {
      "cell_type": "code",
      "source": [
        "vector = torch.tensor([1.0,2,3,4])\n",
        "vector"
      ],
      "metadata": {
        "colab": {
          "base_uri": "https://localhost:8080/"
        },
        "id": "sN3313pPdBnW",
        "outputId": "660002e8-ea61-4ef0-f0ac-2b998b621898"
      },
      "execution_count": null,
      "outputs": [
        {
          "output_type": "execute_result",
          "data": {
            "text/plain": [
              "tensor([1., 2., 3., 4.])"
            ]
          },
          "metadata": {},
          "execution_count": 4
        }
      ]
    },
    {
      "cell_type": "code",
      "source": [
        "vector.dtype"
      ],
      "metadata": {
        "colab": {
          "base_uri": "https://localhost:8080/"
        },
        "id": "EFeSHS3A_I2K",
        "outputId": "df966800-6bf4-4a96-c2ee-69d2ff9314b7"
      },
      "execution_count": null,
      "outputs": [
        {
          "output_type": "execute_result",
          "data": {
            "text/plain": [
              "torch.float32"
            ]
          },
          "metadata": {},
          "execution_count": 5
        }
      ]
    },
    {
      "cell_type": "markdown",
      "source": [
        "We create an `2D` tensor or a matrix."
      ],
      "metadata": {
        "id": "j8tndibafrVd"
      }
    },
    {
      "cell_type": "code",
      "source": [
        "matrix = torch.tensor([[1,2,3],[4,5,6]])\n",
        "matrix"
      ],
      "metadata": {
        "colab": {
          "base_uri": "https://localhost:8080/"
        },
        "id": "__DlBalPeChq",
        "outputId": "1547922d-973b-4616-9c17-8254d38ca487"
      },
      "execution_count": null,
      "outputs": [
        {
          "output_type": "execute_result",
          "data": {
            "text/plain": [
              "tensor([[1, 2, 3],\n",
              "        [4, 5, 6]])"
            ]
          },
          "metadata": {},
          "execution_count": 6
        }
      ]
    },
    {
      "cell_type": "code",
      "source": [
        "print(f\"dim={matrix.ndim}, shape={matrix.shape}\")"
      ],
      "metadata": {
        "colab": {
          "base_uri": "https://localhost:8080/"
        },
        "id": "BvMJlWKEf9sr",
        "outputId": "fad5eaa7-05d1-485d-d2e7-da198192bd45"
      },
      "execution_count": null,
      "outputs": [
        {
          "output_type": "stream",
          "name": "stdout",
          "text": [
            "dim=2, shape=torch.Size([2, 3])\n"
          ]
        }
      ]
    },
    {
      "cell_type": "code",
      "source": [
        "print(matrix.numpy())"
      ],
      "metadata": {
        "colab": {
          "base_uri": "https://localhost:8080/"
        },
        "id": "_E098BvZV7NJ",
        "outputId": "cdcb8603-7436-4398-dc54-beb4fb9e7966"
      },
      "execution_count": null,
      "outputs": [
        {
          "output_type": "stream",
          "name": "stdout",
          "text": [
            "[[1 2 3]\n",
            " [4 5 6]]\n"
          ]
        }
      ]
    },
    {
      "cell_type": "code",
      "source": [
        "print(vector.dtype)"
      ],
      "metadata": {
        "colab": {
          "base_uri": "https://localhost:8080/"
        },
        "id": "lLrklV1rglOM",
        "outputId": "b4367165-30fc-4d3a-fc19-414a46ca6989"
      },
      "execution_count": null,
      "outputs": [
        {
          "output_type": "stream",
          "name": "stdout",
          "text": [
            "torch.int64\n"
          ]
        }
      ]
    },
    {
      "cell_type": "markdown",
      "source": [
        "## Create Tensors in PyTorch"
      ],
      "metadata": {
        "id": "NR_rxEcN8ieG"
      }
    },
    {
      "cell_type": "markdown",
      "source": [
        "### Initialize Random Tensors"
      ],
      "metadata": {
        "id": "CbbU32bO8Wrw"
      }
    },
    {
      "cell_type": "code",
      "source": [
        "randImage = torch.rand(size=(224,224,3))\n",
        "randImage"
      ],
      "metadata": {
        "colab": {
          "base_uri": "https://localhost:8080/"
        },
        "id": "q8tzXUBN8sNk",
        "outputId": "4d39ac60-dd58-4e3f-8c26-dfe86565dfc1"
      },
      "execution_count": null,
      "outputs": [
        {
          "output_type": "execute_result",
          "data": {
            "text/plain": [
              "tensor([[[2.0739e-01, 9.4525e-01, 6.0209e-01],\n",
              "         [3.5002e-02, 3.0085e-01, 7.9144e-01],\n",
              "         [1.2525e-01, 3.6511e-01, 5.8113e-01],\n",
              "         ...,\n",
              "         [1.9213e-01, 1.4670e-01, 5.7035e-01],\n",
              "         [1.5583e-01, 3.8655e-01, 7.8491e-01],\n",
              "         [7.2590e-01, 5.5198e-01, 3.9600e-01]],\n",
              "\n",
              "        [[6.7430e-01, 2.2952e-01, 3.1875e-01],\n",
              "         [5.6158e-01, 2.9601e-02, 5.9172e-01],\n",
              "         [4.9816e-01, 4.4862e-01, 5.2413e-01],\n",
              "         ...,\n",
              "         [6.9722e-01, 4.0439e-01, 5.1654e-01],\n",
              "         [4.9725e-01, 7.6961e-01, 3.7212e-01],\n",
              "         [9.4013e-01, 1.1879e-01, 8.3972e-01]],\n",
              "\n",
              "        [[5.5736e-01, 2.1394e-01, 9.6740e-01],\n",
              "         [4.9608e-01, 3.5436e-01, 5.0525e-01],\n",
              "         [1.5085e-01, 7.0770e-01, 3.4462e-02],\n",
              "         ...,\n",
              "         [5.0269e-01, 8.5759e-01, 2.4219e-01],\n",
              "         [6.3119e-01, 1.2253e-01, 5.4510e-01],\n",
              "         [7.4501e-01, 8.1857e-01, 7.4599e-01]],\n",
              "\n",
              "        ...,\n",
              "\n",
              "        [[9.6800e-01, 8.7373e-01, 4.3634e-01],\n",
              "         [7.9035e-01, 8.3383e-01, 9.9175e-02],\n",
              "         [6.3528e-01, 4.8983e-01, 5.1383e-01],\n",
              "         ...,\n",
              "         [7.6830e-01, 1.7990e-01, 8.6250e-01],\n",
              "         [2.2068e-01, 7.5311e-01, 4.6250e-01],\n",
              "         [9.6630e-02, 9.9931e-01, 9.3786e-01]],\n",
              "\n",
              "        [[6.8889e-01, 6.3461e-01, 3.4513e-01],\n",
              "         [5.4128e-01, 9.1252e-01, 3.2687e-01],\n",
              "         [3.6693e-01, 7.5197e-01, 3.7239e-01],\n",
              "         ...,\n",
              "         [3.3502e-01, 6.7644e-01, 2.5810e-01],\n",
              "         [1.5395e-01, 2.1365e-01, 4.8141e-01],\n",
              "         [9.5572e-01, 9.7148e-01, 3.1540e-01]],\n",
              "\n",
              "        [[1.0398e-01, 9.0981e-01, 1.2489e-01],\n",
              "         [3.5423e-01, 7.5140e-02, 4.9782e-01],\n",
              "         [8.1721e-01, 6.4565e-01, 8.3826e-01],\n",
              "         ...,\n",
              "         [2.6320e-01, 9.7669e-02, 4.9603e-01],\n",
              "         [7.9417e-04, 4.2777e-01, 7.4008e-01],\n",
              "         [5.8908e-01, 4.7514e-01, 8.6217e-01]]])"
            ]
          },
          "metadata": {},
          "execution_count": 6
        }
      ]
    },
    {
      "cell_type": "code",
      "source": [
        "print(f\"Shape: {randImage.shape}, ndim = {randImage.ndim}, height= {randImage.shape[0]}, width = {randImage.shape[1]}, depth = {randImage.shape[2]}\")"
      ],
      "metadata": {
        "colab": {
          "base_uri": "https://localhost:8080/"
        },
        "id": "0XwgIY4a9Gcb",
        "outputId": "dfbb43ef-b3a8-4ef9-a474-3ca57d326598"
      },
      "execution_count": null,
      "outputs": [
        {
          "output_type": "stream",
          "name": "stdout",
          "text": [
            "Shape: torch.Size([224, 224, 3]), ndim = 3, height= 224, width = 224, depth = 3\n"
          ]
        }
      ]
    },
    {
      "cell_type": "markdown",
      "source": [
        "### Create One, Zero Tensors"
      ],
      "metadata": {
        "id": "anJIQYOs9zmQ"
      }
    },
    {
      "cell_type": "code",
      "source": [
        "ones = torch.ones(size= (2,3))\n",
        "ones"
      ],
      "metadata": {
        "colab": {
          "base_uri": "https://localhost:8080/"
        },
        "id": "OepHRNJo9NjB",
        "outputId": "ce653cee-4e8e-4c5d-c892-fc90fcb2dd75"
      },
      "execution_count": null,
      "outputs": [
        {
          "output_type": "execute_result",
          "data": {
            "text/plain": [
              "tensor([[1., 1., 1.],\n",
              "        [1., 1., 1.]])"
            ]
          },
          "metadata": {},
          "execution_count": 15
        }
      ]
    },
    {
      "cell_type": "code",
      "source": [
        "zeros = torch.zeros(size = (2,3))\n",
        "zeros"
      ],
      "metadata": {
        "colab": {
          "base_uri": "https://localhost:8080/"
        },
        "id": "QrU-sNKp9-xY",
        "outputId": "80f6ca1b-42ea-4527-8ba3-868cf64101fc"
      },
      "execution_count": null,
      "outputs": [
        {
          "output_type": "execute_result",
          "data": {
            "text/plain": [
              "tensor([[0., 0., 0.],\n",
              "        [0., 0., 0.]])"
            ]
          },
          "metadata": {},
          "execution_count": 16
        }
      ]
    },
    {
      "cell_type": "code",
      "source": [
        "ones_like = torch.ones_like(zeros)\n",
        "ones_like"
      ],
      "metadata": {
        "colab": {
          "base_uri": "https://localhost:8080/"
        },
        "id": "rt0fQp6f-QIH",
        "outputId": "1fe44039-daeb-43e4-d158-61e7241a3ed1"
      },
      "execution_count": null,
      "outputs": [
        {
          "output_type": "execute_result",
          "data": {
            "text/plain": [
              "tensor([[1., 1., 1.],\n",
              "        [1., 1., 1.]])"
            ]
          },
          "metadata": {},
          "execution_count": 17
        }
      ]
    },
    {
      "cell_type": "code",
      "source": [
        "zeros_like = torch.zeros_like(ones)\n",
        "zeros_like"
      ],
      "metadata": {
        "colab": {
          "base_uri": "https://localhost:8080/"
        },
        "id": "CYM3OMPCdo8V",
        "outputId": "898e1db5-c8f1-4f59-c761-756a01a6b8ab"
      },
      "execution_count": null,
      "outputs": [
        {
          "output_type": "execute_result",
          "data": {
            "text/plain": [
              "tensor([[0., 0., 0.],\n",
              "        [0., 0., 0.]])"
            ]
          },
          "metadata": {},
          "execution_count": 18
        }
      ]
    },
    {
      "cell_type": "markdown",
      "source": [
        "### Create a Range and Reshape"
      ],
      "metadata": {
        "id": "ZvJMTBC8eMK3"
      }
    },
    {
      "cell_type": "code",
      "source": [
        "aRange = torch.arange(start = 0.1, end = 5.0, step = 0.2)\n",
        "aRange"
      ],
      "metadata": {
        "colab": {
          "base_uri": "https://localhost:8080/"
        },
        "id": "Ekuo621id1QR",
        "outputId": "7e63fc9f-fc02-4548-daef-b57e7870d505"
      },
      "execution_count": null,
      "outputs": [
        {
          "output_type": "execute_result",
          "data": {
            "text/plain": [
              "tensor([0.1000, 0.3000, 0.5000, 0.7000, 0.9000, 1.1000, 1.3000, 1.5000, 1.7000,\n",
              "        1.9000, 2.1000, 2.3000, 2.5000, 2.7000, 2.9000, 3.1000, 3.3000, 3.5000,\n",
              "        3.7000, 3.9000, 4.1000, 4.3000, 4.5000, 4.7000, 4.9000])"
            ]
          },
          "metadata": {},
          "execution_count": 19
        }
      ]
    },
    {
      "cell_type": "code",
      "source": [
        "matrix = aRange.reshape(shape = (5,5))\n",
        "matrix"
      ],
      "metadata": {
        "colab": {
          "base_uri": "https://localhost:8080/"
        },
        "id": "G34Dr1s1em9b",
        "outputId": "863fb8d3-9d53-4fa7-b7c4-9d7c866343ca"
      },
      "execution_count": null,
      "outputs": [
        {
          "output_type": "execute_result",
          "data": {
            "text/plain": [
              "tensor([[0.1000, 0.3000, 0.5000, 0.7000, 0.9000],\n",
              "        [1.1000, 1.3000, 1.5000, 1.7000, 1.9000],\n",
              "        [2.1000, 2.3000, 2.5000, 2.7000, 2.9000],\n",
              "        [3.1000, 3.3000, 3.5000, 3.7000, 3.9000],\n",
              "        [4.1000, 4.3000, 4.5000, 4.7000, 4.9000]])"
            ]
          },
          "metadata": {},
          "execution_count": 16
        }
      ]
    },
    {
      "cell_type": "markdown",
      "source": [
        "### From NumPy Arrays\n",
        "\n",
        "We first import `numpy` and then create a numpy array."
      ],
      "metadata": {
        "id": "haxzm1lrfLSk"
      }
    },
    {
      "cell_type": "code",
      "source": [
        "import numpy as np"
      ],
      "metadata": {
        "id": "0fEUbX8iev7x"
      },
      "execution_count": null,
      "outputs": []
    },
    {
      "cell_type": "code",
      "source": [
        "npArray = np.arange(1,21, dtype = np.float32)\n",
        "npArray"
      ],
      "metadata": {
        "colab": {
          "base_uri": "https://localhost:8080/"
        },
        "id": "yulQAjDbfViM",
        "outputId": "3f2d00d3-5efd-43f2-8541-ce7c26834fa7"
      },
      "execution_count": null,
      "outputs": [
        {
          "output_type": "execute_result",
          "data": {
            "text/plain": [
              "array([ 1.,  2.,  3.,  4.,  5.,  6.,  7.,  8.,  9., 10., 11., 12., 13.,\n",
              "       14., 15., 16., 17., 18., 19., 20.], dtype=float32)"
            ]
          },
          "metadata": {},
          "execution_count": 21
        }
      ]
    },
    {
      "cell_type": "markdown",
      "source": [
        "We reshape the above numpy array to `(5,5)`"
      ],
      "metadata": {
        "id": "MBTAPfXZ_rbK"
      }
    },
    {
      "cell_type": "code",
      "source": [
        "npArray = npArray.reshape((5,-1))\n",
        "npArray"
      ],
      "metadata": {
        "colab": {
          "base_uri": "https://localhost:8080/"
        },
        "id": "ZshSnzBRf3he",
        "outputId": "fc07c848-8dd9-4910-b2a1-7712a5e4fa63"
      },
      "execution_count": null,
      "outputs": [
        {
          "output_type": "execute_result",
          "data": {
            "text/plain": [
              "array([[ 1.,  2.,  3.,  4.],\n",
              "       [ 5.,  6.,  7.,  8.],\n",
              "       [ 9., 10., 11., 12.],\n",
              "       [13., 14., 15., 16.],\n",
              "       [17., 18., 19., 20.]], dtype=float32)"
            ]
          },
          "metadata": {},
          "execution_count": 19
        }
      ]
    },
    {
      "cell_type": "markdown",
      "source": [
        "We create a torch array or tensor from the numpy array using the method `torch.from_numpy()`."
      ],
      "metadata": {
        "id": "e5pujLa1_4x0"
      }
    },
    {
      "cell_type": "code",
      "source": [
        "torchArray = torch.from_numpy(npArray)\n",
        "torchArray"
      ],
      "metadata": {
        "colab": {
          "base_uri": "https://localhost:8080/"
        },
        "id": "A-gfoIIEgCu8",
        "outputId": "5e398078-2536-4d6d-8c6a-7fa8496a11ad"
      },
      "execution_count": null,
      "outputs": [
        {
          "output_type": "execute_result",
          "data": {
            "text/plain": [
              "tensor([[ 1.,  2.,  3.,  4.],\n",
              "        [ 5.,  6.,  7.,  8.],\n",
              "        [ 9., 10., 11., 12.],\n",
              "        [13., 14., 15., 16.],\n",
              "        [17., 18., 19., 20.]])"
            ]
          },
          "metadata": {},
          "execution_count": 20
        }
      ]
    },
    {
      "cell_type": "markdown",
      "source": [
        "We cast the float Torch tensor to the integer one."
      ],
      "metadata": {
        "id": "9NYr6Bw5AQl5"
      }
    },
    {
      "cell_type": "code",
      "source": [
        "torchArray = torchArray.type(torch.int16)\n",
        "torchArray"
      ],
      "metadata": {
        "colab": {
          "base_uri": "https://localhost:8080/"
        },
        "id": "b8EkZLY4gcfZ",
        "outputId": "f7d38f27-86da-4dad-e635-10c905ac49a5"
      },
      "execution_count": null,
      "outputs": [
        {
          "output_type": "execute_result",
          "data": {
            "text/plain": [
              "tensor([[ 1,  2,  3,  4],\n",
              "        [ 5,  6,  7,  8],\n",
              "        [ 9, 10, 11, 12],\n",
              "        [13, 14, 15, 16],\n",
              "        [17, 18, 19, 20]], dtype=torch.int16)"
            ]
          },
          "metadata": {},
          "execution_count": 21
        }
      ]
    },
    {
      "cell_type": "code",
      "source": [
        "print(torchArray.numpy())"
      ],
      "metadata": {
        "colab": {
          "base_uri": "https://localhost:8080/"
        },
        "id": "PwzvkKx1grbP",
        "outputId": "81cc687d-4e45-4762-e340-baa09791f949"
      },
      "execution_count": null,
      "outputs": [
        {
          "output_type": "stream",
          "name": "stdout",
          "text": [
            "[[ 1  2  3  4]\n",
            " [ 5  6  7  8]\n",
            " [ 9 10 11 12]\n",
            " [13 14 15 16]\n",
            " [17 18 19 20]]\n"
          ]
        }
      ]
    },
    {
      "cell_type": "markdown",
      "source": [
        "## Tensor datatypes\n",
        "\n",
        "There are many different [tensor datatypes available in PyTorch](https://pytorch.org/docs/stable/tensors.html#data-types). Some are specific for CPU and some are better for GPU. Getting to know which is which can take some time.\n",
        "\n",
        "Generally if you see `torch.cuda` anywhere, the tensor is being used for GPU (since Nvidia GPUs use a computing toolkit called CUDA).\n",
        "\n",
        "The most common type (and generally the default) is `torch.float32` or `torch.float`. This is referred to as \"32-bit floating point\". But there are also 16-bit floating point (`torch.float16` or `torch.half`) and 64-bit floating point (`torch.float64` or `torch.double`). And to confuse things even more there's also 8-bit, 16-bit, 32-bit and 64-bit integers.\n"
      ],
      "metadata": {
        "id": "RM0MfFD7jNaK"
      }
    },
    {
      "cell_type": "code",
      "source": [
        "# Default datatype for tensors is float32\n",
        "float_32_tensor = torch.tensor([3.0, 6.0, 9.0],\n",
        "                               dtype=None, # defaults to None, which is torch.float32 or whatever datatype is passed\n",
        "                               device=None, # defaults to None, which uses the default tensor type\n",
        "                               requires_grad=False) # if True, operations performed on the tensor are recorded\n",
        "\n",
        "float_32_tensor.shape, float_32_tensor.dtype, float_32_tensor.device"
      ],
      "metadata": {
        "colab": {
          "base_uri": "https://localhost:8080/"
        },
        "id": "Q_p9SVMWgxTW",
        "outputId": "a28b8226-c4e6-469a-cb69-95bb9f99a067"
      },
      "execution_count": null,
      "outputs": [
        {
          "output_type": "execute_result",
          "data": {
            "text/plain": [
              "(torch.Size([3]), torch.float32, device(type='cpu'))"
            ]
          },
          "metadata": {},
          "execution_count": 23
        }
      ]
    },
    {
      "cell_type": "code",
      "source": [
        "float_16_tensor = torch.tensor([3.0, 6.0, 9.0],\n",
        "                               dtype=torch.float16) # torch.half would also work\n",
        "\n",
        "float_16_tensor.dtype"
      ],
      "metadata": {
        "colab": {
          "base_uri": "https://localhost:8080/"
        },
        "id": "5kbx8kvbjziz",
        "outputId": "024ca4f9-5543-4545-803f-7e4b49ac1686"
      },
      "execution_count": null,
      "outputs": [
        {
          "output_type": "execute_result",
          "data": {
            "text/plain": [
              "torch.float16"
            ]
          },
          "metadata": {},
          "execution_count": 24
        }
      ]
    },
    {
      "cell_type": "markdown",
      "source": [
        "## Getting information from tensors\n",
        "\n",
        "Once you've created tensors (or someone else or a PyTorch module has created them for you), you might want to get some information from them.\n",
        "\n",
        "We've seen these before but three of the most common attributes you'll want to find out about tensors are:\n",
        "* `shape` - what shape is the tensor? (some operations require specific shape rules)\n",
        "* `dtype` - what datatype are the elements within the tensor stored in?\n",
        "* `device` - what device is the tensor stored on? (usually GPU or CPU)\n",
        "\n",
        "Let's create a random tensor and find out details about it."
      ],
      "metadata": {
        "id": "QJyvYXB4kGJ1"
      }
    },
    {
      "cell_type": "code",
      "source": [
        "# Create a tensor\n",
        "some_tensor = torch.rand(3, 4)\n",
        "\n",
        "# Find out details about it\n",
        "print(some_tensor)\n",
        "print(f\"Shape of tensor: {some_tensor.shape}\")\n",
        "print(f\"Datatype of tensor: {some_tensor.dtype}\")\n",
        "print(f\"Device tensor is stored on: {some_tensor.device}\") # will default to CPU"
      ],
      "metadata": {
        "colab": {
          "base_uri": "https://localhost:8080/"
        },
        "id": "whCUcX8Gj4LT",
        "outputId": "30def2a9-8edb-4ac0-9ded-9496f1f8242d"
      },
      "execution_count": null,
      "outputs": [
        {
          "output_type": "stream",
          "name": "stdout",
          "text": [
            "tensor([[0.4697, 0.3126, 0.6332, 0.7231],\n",
            "        [0.8697, 0.2153, 0.2280, 0.2390],\n",
            "        [0.3975, 0.5294, 0.8899, 0.0626]])\n",
            "Shape of tensor: torch.Size([3, 4])\n",
            "Datatype of tensor: torch.float32\n",
            "Device tensor is stored on: cpu\n"
          ]
        }
      ]
    },
    {
      "cell_type": "markdown",
      "source": [
        "## Manipulating tensors (tensor operations)\n",
        "\n",
        "In deep learning, data (images, text, video, audio, protein structures, etc) gets represented as tensors. A model learns by investigating those tensors and performing a series of operations (could be 1,000,000s+) on tensors to create a representation of the patterns in the input data.\n",
        "\n",
        "These operations are often a wonderful dance between:\n",
        "* Addition\n",
        "* Substraction\n",
        "* Multiplication (element-wise)\n",
        "* Division\n",
        "* Matrix multiplication\n",
        "\n",
        "And that's it. Sure there are a few more here and there but these are the basic building blocks of neural networks."
      ],
      "metadata": {
        "id": "8QFVAK1AvdgJ"
      }
    },
    {
      "cell_type": "markdown",
      "source": [
        "### Basic operations\n",
        "\n",
        "Let's start with a few of the fundamental operations, addition (`+`), subtraction (`-`), mutliplication (`*`)."
      ],
      "metadata": {
        "id": "32GtvGJUvn3G"
      }
    },
    {
      "cell_type": "code",
      "source": [
        "# Create a tensor of values and add a number to it\n",
        "tensor = torch.tensor([1, 2, 3])\n",
        "tensor1 = tensor + 10\n",
        "tensor1"
      ],
      "metadata": {
        "colab": {
          "base_uri": "https://localhost:8080/"
        },
        "id": "sq3vvAshlHjh",
        "outputId": "89234770-1296-45d4-c93f-0293809be45d"
      },
      "execution_count": null,
      "outputs": [
        {
          "output_type": "execute_result",
          "data": {
            "text/plain": [
              "tensor([11, 12, 13])"
            ]
          },
          "metadata": {},
          "execution_count": 11
        }
      ]
    },
    {
      "cell_type": "code",
      "source": [
        "# Multiply it by 10\n",
        "tensor2 = tensor * 10\n",
        "tensor2"
      ],
      "metadata": {
        "colab": {
          "base_uri": "https://localhost:8080/"
        },
        "id": "ptxD5eBDvuiB",
        "outputId": "13d91538-b5b9-448a-e533-6978d04ca9a9"
      },
      "execution_count": null,
      "outputs": [
        {
          "output_type": "execute_result",
          "data": {
            "text/plain": [
              "tensor([10, 20, 30])"
            ]
          },
          "metadata": {},
          "execution_count": 12
        }
      ]
    },
    {
      "cell_type": "code",
      "source": [
        "# Subtract and reassign\n",
        "tensor3 = tensor - 10\n",
        "tensor3"
      ],
      "metadata": {
        "colab": {
          "base_uri": "https://localhost:8080/"
        },
        "id": "XD1nVUDAvxWl",
        "outputId": "cf8b5dac-4cdd-4e8c-8181-ff851ef50dbb"
      },
      "execution_count": null,
      "outputs": [
        {
          "output_type": "execute_result",
          "data": {
            "text/plain": [
              "tensor([-9, -8, -7])"
            ]
          },
          "metadata": {},
          "execution_count": 8
        }
      ]
    },
    {
      "cell_type": "markdown",
      "source": [
        "PyTorch also has a bunch of built-in functions like [`torch.mul()`](https://pytorch.org/docs/stable/generated/torch.mul.html#torch.mul) (short for multiplication) and [`torch.add()`](https://pytorch.org/docs/stable/generated/torch.add.html) to perform basic operations."
      ],
      "metadata": {
        "id": "jwxj30gOwbp-"
      }
    },
    {
      "cell_type": "code",
      "source": [
        "# Can also use torch functions\n",
        "torch.multiply(tensor, 10)"
      ],
      "metadata": {
        "colab": {
          "base_uri": "https://localhost:8080/"
        },
        "id": "HfxxB1UvwTuk",
        "outputId": "91be04b8-94ab-49f5-beba-f25ab6ce3c02"
      },
      "execution_count": null,
      "outputs": [
        {
          "output_type": "execute_result",
          "data": {
            "text/plain": [
              "tensor([10, 20, 30])"
            ]
          },
          "metadata": {},
          "execution_count": 9
        }
      ]
    },
    {
      "cell_type": "markdown",
      "source": [
        "However, it's more common to use the operator symbols like `*` instead of `torch.mul()`"
      ],
      "metadata": {
        "id": "CO_lbbelwyNr"
      }
    },
    {
      "cell_type": "code",
      "source": [
        "# Element-wise multiplication (each element multiplies its equivalent, index 0->0, 1->1, 2->2)\n",
        "print(tensor, \"*\", tensor)\n",
        "print(\"Equals:\", tensor * tensor)"
      ],
      "metadata": {
        "colab": {
          "base_uri": "https://localhost:8080/"
        },
        "id": "FDe5FZFjwn0L",
        "outputId": "56bb7d14-3a46-43fe-c6ee-9241ee31c819"
      },
      "execution_count": null,
      "outputs": [
        {
          "output_type": "stream",
          "name": "stdout",
          "text": [
            "tensor([1, 2, 3]) * tensor([1, 2, 3])\n",
            "Equals: tensor([1, 4, 9])\n"
          ]
        }
      ]
    },
    {
      "cell_type": "markdown",
      "source": [
        "### Matrix multiplication (is all you need)\n",
        "\n",
        "One of the most common operations in machine learning and deep learning algorithms (like neural networks) is [matrix multiplication](https://www.mathsisfun.com/algebra/matrix-multiplying.html).\n",
        "\n",
        "PyTorch implements matrix multiplication functionality in the [`torch.matmul()`](https://pytorch.org/docs/stable/generated/torch.matmul.html) method.\n",
        "\n"
      ],
      "metadata": {
        "id": "KDoC_uTjxUw7"
      }
    },
    {
      "cell_type": "code",
      "source": [
        "A = torch.arange(1,7, dtype = torch.float32).reshape((3,-1))\n",
        "print(f\"A={A}\\n shape = {A.shape}\")"
      ],
      "metadata": {
        "colab": {
          "base_uri": "https://localhost:8080/"
        },
        "id": "fNMQihXiw1Qd",
        "outputId": "03769a89-b47a-48b2-f9c1-ed5663b02333"
      },
      "execution_count": null,
      "outputs": [
        {
          "output_type": "stream",
          "name": "stdout",
          "text": [
            "A=tensor([[1., 2.],\n",
            "        [3., 4.],\n",
            "        [5., 6.]])\n",
            " shape = torch.Size([3, 2])\n"
          ]
        }
      ]
    },
    {
      "cell_type": "code",
      "source": [],
      "metadata": {
        "id": "FfHvoHX9349b"
      },
      "execution_count": null,
      "outputs": []
    },
    {
      "cell_type": "code",
      "source": [
        "B = torch.rand((2,4))\n",
        "print(f\"B={B}\\n shape = {B.shape}\")"
      ],
      "metadata": {
        "colab": {
          "base_uri": "https://localhost:8080/"
        },
        "id": "SXL582SoyGx5",
        "outputId": "7a189481-2ef3-4739-e1ca-6b82e9b30ad8"
      },
      "execution_count": null,
      "outputs": [
        {
          "output_type": "stream",
          "name": "stdout",
          "text": [
            "B=tensor([[0.7668, 0.1661, 0.5421, 0.9078],\n",
            "        [0.1574, 0.7488, 0.3914, 0.5374]])\n",
            " shape = torch.Size([2, 4])\n"
          ]
        }
      ]
    },
    {
      "cell_type": "markdown",
      "source": [
        "Matrices `A` with the shape $3 \\times 2$ and `B` with the shape $2 \\times 4$ are compatible in dimension, so we can multiple them."
      ],
      "metadata": {
        "id": "rU3f_97ZxSAj"
      }
    },
    {
      "cell_type": "code",
      "source": [
        "C1 = torch.matmul(A,B)\n",
        "C1"
      ],
      "metadata": {
        "colab": {
          "base_uri": "https://localhost:8080/"
        },
        "id": "u0X0yHH9yxSI",
        "outputId": "48ca8a29-9751-4380-a019-21870940d238"
      },
      "execution_count": null,
      "outputs": [
        {
          "output_type": "execute_result",
          "data": {
            "text/plain": [
              "tensor([[1.0816, 1.6637, 1.3249, 1.9827],\n",
              "        [2.9300, 3.4934, 3.1919, 4.8733],\n",
              "        [4.7784, 5.3231, 5.0588, 7.7638]])"
            ]
          },
          "metadata": {},
          "execution_count": 9
        }
      ]
    },
    {
      "cell_type": "code",
      "source": [
        "C2 = A.matmul(B)\n",
        "C2"
      ],
      "metadata": {
        "colab": {
          "base_uri": "https://localhost:8080/"
        },
        "id": "EZTg98EJy3In",
        "outputId": "aaf69f9e-c234-4556-ce10-089ab039eb08"
      },
      "execution_count": null,
      "outputs": [
        {
          "output_type": "execute_result",
          "data": {
            "text/plain": [
              "tensor([[1.0816, 1.6637, 1.3249, 1.9827],\n",
              "        [2.9300, 3.4934, 3.1919, 4.8733],\n",
              "        [4.7784, 5.3231, 5.0588, 7.7638]])"
            ]
          },
          "metadata": {},
          "execution_count": 10
        }
      ]
    },
    {
      "cell_type": "code",
      "source": [
        "C3 = A@B\n",
        "C3"
      ],
      "metadata": {
        "colab": {
          "base_uri": "https://localhost:8080/"
        },
        "id": "75N6mEEwzELG",
        "outputId": "7055e666-eeb3-4e5e-e8e4-5b51178f9072"
      },
      "execution_count": null,
      "outputs": [
        {
          "output_type": "execute_result",
          "data": {
            "text/plain": [
              "tensor([[1.0816, 1.6637, 1.3249, 1.9827],\n",
              "        [2.9300, 3.4934, 3.1919, 4.8733],\n",
              "        [4.7784, 5.3231, 5.0588, 7.7638]])"
            ]
          },
          "metadata": {},
          "execution_count": 11
        }
      ]
    },
    {
      "cell_type": "markdown",
      "source": [
        "`C1`, `C2`, and `C3` must be the same and we assert this."
      ],
      "metadata": {
        "id": "Ikcp0kRXBjmd"
      }
    },
    {
      "cell_type": "code",
      "source": [
        "assert torch.equal(C1,C2)\n",
        "assert torch.equal(C1,C3)"
      ],
      "metadata": {
        "id": "kA1vqtobzLTL"
      },
      "execution_count": null,
      "outputs": []
    },
    {
      "cell_type": "markdown",
      "source": [
        "### One of the most common errors in deep learning (shape errors)\n",
        "\n",
        "Because much of deep learning is multiplying and performing operations on matrices and matrices have a strict rule about what shapes and sizes can be combined, one of the most common errors you'll run into in deep learning is shape mismatches."
      ],
      "metadata": {
        "id": "M1nIGeZS0vBi"
      }
    },
    {
      "cell_type": "code",
      "source": [
        "# Shapes need to be in the right way\n",
        "tensor_A = torch.tensor([[1, 2],\n",
        "                         [3, 4],\n",
        "                         [5, 6]], dtype=torch.float32)\n",
        "\n",
        "tensor_B = torch.tensor([[7, 10],\n",
        "                         [8, 11],\n",
        "                         [9, 12]], dtype=torch.float32)\n",
        "\n",
        "torch.matmul(tensor_A, tensor_B) # (this will error)"
      ],
      "metadata": {
        "colab": {
          "base_uri": "https://localhost:8080/",
          "height": 183
        },
        "id": "40bN80NXzPpK",
        "outputId": "ca019324-7001-4daf-c943-5d07e08c7931"
      },
      "execution_count": null,
      "outputs": [
        {
          "output_type": "error",
          "ename": "RuntimeError",
          "evalue": "mat1 and mat2 shapes cannot be multiplied (3x2 and 3x2)",
          "traceback": [
            "\u001b[0;31m---------------------------------------------------------------------------\u001b[0m",
            "\u001b[0;31mRuntimeError\u001b[0m                              Traceback (most recent call last)",
            "\u001b[0;32m<ipython-input-37-5893e600ebdf>\u001b[0m in \u001b[0;36m<cell line: 10>\u001b[0;34m()\u001b[0m\n\u001b[1;32m      8\u001b[0m                          [9, 12]], dtype=torch.float32)\n\u001b[1;32m      9\u001b[0m \u001b[0;34m\u001b[0m\u001b[0m\n\u001b[0;32m---> 10\u001b[0;31m \u001b[0mtorch\u001b[0m\u001b[0;34m.\u001b[0m\u001b[0mmatmul\u001b[0m\u001b[0;34m(\u001b[0m\u001b[0mtensor_A\u001b[0m\u001b[0;34m,\u001b[0m \u001b[0mtensor_B\u001b[0m\u001b[0;34m)\u001b[0m \u001b[0;31m# (this will error)\u001b[0m\u001b[0;34m\u001b[0m\u001b[0;34m\u001b[0m\u001b[0m\n\u001b[0m",
            "\u001b[0;31mRuntimeError\u001b[0m: mat1 and mat2 shapes cannot be multiplied (3x2 and 3x2)"
          ]
        }
      ]
    },
    {
      "cell_type": "markdown",
      "source": [
        "To fix this, we need to transpose `tensor_B` before doing multiplication."
      ],
      "metadata": {
        "id": "X8B5yO7e1VH_"
      }
    },
    {
      "cell_type": "code",
      "source": [
        "torch.matmul(tensor_A, tensor_B.T)"
      ],
      "metadata": {
        "colab": {
          "base_uri": "https://localhost:8080/"
        },
        "id": "kL_nOSCS1QmL",
        "outputId": "6a16cbd6-0b6f-437c-a3d6-bfc2bac2d531"
      },
      "execution_count": null,
      "outputs": [
        {
          "output_type": "execute_result",
          "data": {
            "text/plain": [
              "tensor([[ 27.,  30.,  33.],\n",
              "        [ 61.,  68.,  75.],\n",
              "        [ 95., 106., 117.]])"
            ]
          },
          "metadata": {},
          "execution_count": 38
        }
      ]
    },
    {
      "cell_type": "markdown",
      "source": [
        "### Linear Layer\n",
        "\n",
        "Neural networks are full of matrix multiplications and dot products.\n",
        "\n",
        "The [`torch.nn.Linear()`](https://pytorch.org/docs/1.9.1/generated/torch.nn.Linear.html) module (we'll see this in action later on), also known as a feed-forward layer or fully connected layer, implements a matrix multiplication between an input `x` and a weights matrix `W`.\n",
        "\n",
        "$$\n",
        "y = x\\cdot W + b\n",
        "$$\n"
      ],
      "metadata": {
        "id": "8zN-OxFD20BC"
      }
    },
    {
      "cell_type": "code",
      "source": [
        "# Since the linear layer starts with a random weights matrix, let's make it reproducible (more on this later)\n",
        "torch.manual_seed(42)\n",
        "# This uses matrix multiplication\n",
        "linear = torch.nn.Linear(in_features=2, # in_features = matches inner dimension of input\n",
        "                         out_features=6) # out_features = describes outer value\n",
        "x = tensor_A\n",
        "output = linear(x)\n",
        "print(f\"Input shape: {x.shape}\\n\")\n",
        "print(f\"Output:\\n{output}\\n\\nOutput shape: {output.shape}\")"
      ],
      "metadata": {
        "colab": {
          "base_uri": "https://localhost:8080/"
        },
        "id": "PzEQ9v0a137G",
        "outputId": "7c8d9fd7-eb07-4c24-c4ed-3185d5f1ffd8"
      },
      "execution_count": null,
      "outputs": [
        {
          "output_type": "stream",
          "name": "stdout",
          "text": [
            "Input shape: torch.Size([3, 2])\n",
            "\n",
            "Output:\n",
            "tensor([[2.2368, 1.2292, 0.4714, 0.3864, 0.1309, 0.9838],\n",
            "        [4.4919, 2.1970, 0.4469, 0.5285, 0.3401, 2.4777],\n",
            "        [6.7469, 3.1648, 0.4224, 0.6705, 0.5493, 3.9716]],\n",
            "       grad_fn=<AddmmBackward0>)\n",
            "\n",
            "Output shape: torch.Size([3, 6])\n"
          ]
        }
      ]
    },
    {
      "cell_type": "markdown",
      "source": [
        "### Finding the min, max, mean, sum, etc (aggregation)\n",
        "\n",
        "Now we've seen a few ways to manipulate tensors, let's run through a few ways to aggregate them (go from more values to less values).\n",
        "\n",
        "First we'll create a tensor and then find the max, min, mean and sum of it."
      ],
      "metadata": {
        "id": "Uovt2zJx3rk_"
      }
    },
    {
      "cell_type": "code",
      "source": [
        "# Create a tensor\n",
        "x = torch.arange(0, 100, 10)\n",
        "x"
      ],
      "metadata": {
        "colab": {
          "base_uri": "https://localhost:8080/"
        },
        "id": "GtfEXFJs3Qup",
        "outputId": "149ce068-e106-41bd-c118-a511f60831bf"
      },
      "execution_count": null,
      "outputs": [
        {
          "output_type": "execute_result",
          "data": {
            "text/plain": [
              "tensor([ 0, 10, 20, 30, 40, 50, 60, 70, 80, 90])"
            ]
          },
          "metadata": {},
          "execution_count": 25
        }
      ]
    },
    {
      "cell_type": "code",
      "source": [
        "print(f\"Minimum: {x.min()}\")\n",
        "print(f\"Maximum: {x.max()}\")\n",
        "print(f\"Mean: {x.mean()}\") # this will error\n",
        "print(f\"Mean: {x.type(torch.float32).mean()}\") # won't work without float datatype\n",
        "print(f\"Sum: {x.sum()}\")"
      ],
      "metadata": {
        "colab": {
          "base_uri": "https://localhost:8080/",
          "height": 245
        },
        "id": "pCy1MtyJ3OFf",
        "outputId": "2590fb09-3a87-45e1-c160-398a26f59001"
      },
      "execution_count": null,
      "outputs": [
        {
          "output_type": "stream",
          "name": "stdout",
          "text": [
            "Minimum: 0\n",
            "Maximum: 90\n"
          ]
        },
        {
          "output_type": "error",
          "ename": "RuntimeError",
          "evalue": "mean(): could not infer output dtype. Input dtype must be either a floating point or complex dtype. Got: Long",
          "traceback": [
            "\u001b[0;31m---------------------------------------------------------------------------\u001b[0m",
            "\u001b[0;31mRuntimeError\u001b[0m                              Traceback (most recent call last)",
            "\u001b[0;32m<ipython-input-26-bced0494ea34>\u001b[0m in \u001b[0;36m<cell line: 3>\u001b[0;34m()\u001b[0m\n\u001b[1;32m      1\u001b[0m \u001b[0mprint\u001b[0m\u001b[0;34m(\u001b[0m\u001b[0;34mf\"Minimum: {x.min()}\"\u001b[0m\u001b[0;34m)\u001b[0m\u001b[0;34m\u001b[0m\u001b[0;34m\u001b[0m\u001b[0m\n\u001b[1;32m      2\u001b[0m \u001b[0mprint\u001b[0m\u001b[0;34m(\u001b[0m\u001b[0;34mf\"Maximum: {x.max()}\"\u001b[0m\u001b[0;34m)\u001b[0m\u001b[0;34m\u001b[0m\u001b[0;34m\u001b[0m\u001b[0m\n\u001b[0;32m----> 3\u001b[0;31m \u001b[0mprint\u001b[0m\u001b[0;34m(\u001b[0m\u001b[0;34mf\"Mean: {x.mean()}\"\u001b[0m\u001b[0;34m)\u001b[0m \u001b[0;31m# this will error\u001b[0m\u001b[0;34m\u001b[0m\u001b[0;34m\u001b[0m\u001b[0m\n\u001b[0m\u001b[1;32m      4\u001b[0m \u001b[0mprint\u001b[0m\u001b[0;34m(\u001b[0m\u001b[0;34mf\"Mean: {x.type(torch.float32).mean()}\"\u001b[0m\u001b[0;34m)\u001b[0m \u001b[0;31m# won't work without float datatype\u001b[0m\u001b[0;34m\u001b[0m\u001b[0;34m\u001b[0m\u001b[0m\n\u001b[1;32m      5\u001b[0m \u001b[0mprint\u001b[0m\u001b[0;34m(\u001b[0m\u001b[0;34mf\"Sum: {x.sum()}\"\u001b[0m\u001b[0;34m)\u001b[0m\u001b[0;34m\u001b[0m\u001b[0;34m\u001b[0m\u001b[0m\n",
            "\u001b[0;31mRuntimeError\u001b[0m: mean(): could not infer output dtype. Input dtype must be either a floating point or complex dtype. Got: Long"
          ]
        }
      ]
    },
    {
      "cell_type": "markdown",
      "source": [
        " **Note:** You may find some methods such as `torch.mean()` require tensors to be in `torch.float32` (the most common) or another specific datatype, otherwise the operation will fail.\n",
        "\n",
        "You can also do the same as above with `torch` methods."
      ],
      "metadata": {
        "id": "1OO0H3D44FZK"
      }
    },
    {
      "cell_type": "code",
      "source": [
        "torch.max(x), torch.min(x), torch.mean(x.type(torch.float32)), torch.sum(x)"
      ],
      "metadata": {
        "colab": {
          "base_uri": "https://localhost:8080/"
        },
        "id": "IT9-dvbL36Q9",
        "outputId": "0c72c770-470c-46f6-aecb-4cfadb859629"
      },
      "execution_count": null,
      "outputs": [
        {
          "output_type": "execute_result",
          "data": {
            "text/plain": [
              "(tensor(90), tensor(0), tensor(45.), tensor(450))"
            ]
          },
          "metadata": {},
          "execution_count": 42
        }
      ]
    },
    {
      "cell_type": "markdown",
      "source": [
        "You can also find the index of a tensor where the max or minimum occurs with [`torch.argmax()`](https://pytorch.org/docs/stable/generated/torch.argmax.html) and [`torch.argmin()`](https://pytorch.org/docs/stable/generated/torch.argmin.html) respectively.\n",
        "\n",
        "This is helpful incase you just want the position where the highest (or lowest) value is and not the actual value itself (we'll see this in a later section when using the [softmax activation function](https://pytorch.org/docs/stable/generated/torch.nn.Softmax.html))."
      ],
      "metadata": {
        "id": "22ii41nL4QRC"
      }
    },
    {
      "cell_type": "code",
      "source": [
        "# Create a tensor\n",
        "tensor = torch.arange(10, 100, 10)\n",
        "print(f\"Tensor: {tensor}\")\n",
        "\n",
        "# Returns index of max and min values\n",
        "print(f\"Index where max value occurs: {tensor.argmax()}\")\n",
        "print(f\"Index where min value occurs: {tensor.argmin()}\")"
      ],
      "metadata": {
        "colab": {
          "base_uri": "https://localhost:8080/"
        },
        "id": "W4pIYtSC4KUT",
        "outputId": "125e3844-bcd1-45e0-ed71-1562f21161d2"
      },
      "execution_count": null,
      "outputs": [
        {
          "output_type": "stream",
          "name": "stdout",
          "text": [
            "Tensor: tensor([10, 20, 30, 40, 50, 60, 70, 80, 90])\n",
            "Index where max value occurs: 8\n",
            "Index where min value occurs: 0\n"
          ]
        }
      ]
    },
    {
      "cell_type": "markdown",
      "source": [
        "### Reshaping, stacking, squeezing and unsqueezing\n",
        "\n",
        "Often times you'll want to reshape or change the dimensions of your tensors without actually changing the values inside them.\n",
        "\n",
        "To do so, some popular methods are:\n",
        "\n",
        "| Method | One-line description |\n",
        "| ----- | ----- |\n",
        "| [`torch.reshape(input, shape)`](https://pytorch.org/docs/stable/generated/torch.reshape.html#torch.reshape) | Reshapes `input` to `shape` (if compatible), can also use `torch.Tensor.reshape()`. |\n",
        "| [`Tensor.view(shape)`](https://pytorch.org/docs/stable/generated/torch.Tensor.view.html) | Returns a view of the original tensor in a different `shape` but shares the same data as the original tensor. |\n",
        "| [`torch.stack(tensors, dim=0)`](https://pytorch.org/docs/1.9.1/generated/torch.stack.html) | Concatenates a sequence of `tensors` along a new dimension (`dim`), all `tensors` must be same size. |\n",
        "| [`torch.squeeze(input)`](https://pytorch.org/docs/stable/generated/torch.squeeze.html) | Squeezes `input` to remove all the dimenions with value `1`. |\n",
        "| [`torch.unsqueeze(input, dim)`](https://pytorch.org/docs/1.9.1/generated/torch.unsqueeze.html) | Returns `input` with a dimension value of `1` added at `dim`. |\n",
        "| [`torch.permute(input, dims)`](https://pytorch.org/docs/stable/generated/torch.permute.html) | Returns a *view* of the original `input` with its dimensions permuted (rearranged) to `dims`. |\n"
      ],
      "metadata": {
        "id": "ZIiKzzrm4iBU"
      }
    },
    {
      "cell_type": "code",
      "source": [
        "# Create a tensor\n",
        "import torch\n",
        "x = torch.arange(1., 8.)\n",
        "x, x.shape"
      ],
      "metadata": {
        "colab": {
          "base_uri": "https://localhost:8080/"
        },
        "id": "Kb1fH8fU4VKn",
        "outputId": "7df5cd51-de88-4bd0-e520-319988eb3776"
      },
      "execution_count": null,
      "outputs": [
        {
          "output_type": "execute_result",
          "data": {
            "text/plain": [
              "(tensor([1., 2., 3., 4., 5., 6., 7.]), torch.Size([7]))"
            ]
          },
          "metadata": {},
          "execution_count": 44
        }
      ]
    },
    {
      "cell_type": "markdown",
      "source": [
        "Let us add an extra dimension with reshape."
      ],
      "metadata": {
        "id": "9l6vk3q144fJ"
      }
    },
    {
      "cell_type": "code",
      "source": [
        "# Add an extra dimension\n",
        "x_reshaped = x.reshape(1, 7)\n",
        "x_reshaped, x_reshaped.shape"
      ],
      "metadata": {
        "colab": {
          "base_uri": "https://localhost:8080/"
        },
        "id": "rFjWNGaw4zcT",
        "outputId": "ea17927b-8890-4d7c-dbbc-9a84e47323b5"
      },
      "execution_count": null,
      "outputs": [
        {
          "output_type": "execute_result",
          "data": {
            "text/plain": [
              "(tensor([[1., 2., 3., 4., 5., 6., 7.]]), torch.Size([1, 7]))"
            ]
          },
          "metadata": {},
          "execution_count": 45
        }
      ]
    },
    {
      "cell_type": "code",
      "source": [
        "x_reshaped[0][0] =100\n",
        "print(x_reshaped)\n",
        "print(x)"
      ],
      "metadata": {
        "colab": {
          "base_uri": "https://localhost:8080/"
        },
        "id": "Ooc6CLJECQtG",
        "outputId": "29f71696-175e-4d2d-a730-2558caa4aae6"
      },
      "execution_count": null,
      "outputs": [
        {
          "output_type": "stream",
          "name": "stdout",
          "text": [
            "tensor([[100.,   2.,   3.,   4.,   5.,   6.,   7.]])\n",
            "tensor([100.,   2.,   3.,   4.,   5.,   6.,   7.])\n"
          ]
        }
      ]
    },
    {
      "cell_type": "markdown",
      "source": [
        "We can also change the view with `torch.view()`."
      ],
      "metadata": {
        "id": "3lcHmtCy4f8s"
      }
    },
    {
      "cell_type": "code",
      "source": [
        "# Change view (keeps same data as original but changes view)\n",
        "# See more: https://stackoverflow.com/a/54507446/7900723\n",
        "z = x.view(1, 7)\n",
        "z, z.shape"
      ],
      "metadata": {
        "colab": {
          "base_uri": "https://localhost:8080/"
        },
        "id": "ATXpZKBU4rPB",
        "outputId": "73d27dd1-dc91-495f-ecaf-3256e0a77b1a"
      },
      "execution_count": null,
      "outputs": [
        {
          "output_type": "execute_result",
          "data": {
            "text/plain": [
              "(tensor([[100.,   2.,   3.,   4.,   5.,   6.,   7.]]), torch.Size([1, 7]))"
            ]
          },
          "metadata": {},
          "execution_count": 47
        }
      ]
    },
    {
      "cell_type": "markdown",
      "source": [
        "Remember though, changing the view of a tensor with `torch.view()` really only creates a new view of the *same* tensor.\n",
        "\n",
        "So changing the view changes the original tensor too."
      ],
      "metadata": {
        "id": "XXX_7u4g6Nc3"
      }
    },
    {
      "cell_type": "code",
      "source": [
        "# Changing z changes x\n",
        "z[:, 0] = 5\n",
        "z, x"
      ],
      "metadata": {
        "colab": {
          "base_uri": "https://localhost:8080/"
        },
        "id": "yHf7MDxB6GRw",
        "outputId": "687a69dd-378b-43e4-aaeb-78851b6b88a3"
      },
      "execution_count": null,
      "outputs": [
        {
          "output_type": "execute_result",
          "data": {
            "text/plain": [
              "(tensor([[5., 2., 3., 4., 5., 6., 7.]]), tensor([5., 2., 3., 4., 5., 6., 7.]))"
            ]
          },
          "metadata": {},
          "execution_count": 48
        }
      ]
    },
    {
      "cell_type": "markdown",
      "source": [
        "If we wanted to stack our new tensor on top of itself five times, we could do so with `torch.stack()`."
      ],
      "metadata": {
        "id": "tgpqOIMp6UNo"
      }
    },
    {
      "cell_type": "code",
      "source": [
        "# Stack tensors on top of each other\n",
        "x_stacked = torch.stack([x, x, x, x], dim=0) # try changing dim to dim=1 and see what happens\n",
        "x_stacked"
      ],
      "metadata": {
        "colab": {
          "base_uri": "https://localhost:8080/",
          "height": 183
        },
        "id": "1OYrWAtC6SIe",
        "outputId": "349df661-f0d2-48af-da6f-4474283ec8c1"
      },
      "execution_count": null,
      "outputs": [
        {
          "output_type": "error",
          "ename": "NameError",
          "evalue": "name 'x' is not defined",
          "traceback": [
            "\u001b[0;31m---------------------------------------------------------------------------\u001b[0m",
            "\u001b[0;31mNameError\u001b[0m                                 Traceback (most recent call last)",
            "\u001b[0;32m<ipython-input-34-4cdb3e5a8793>\u001b[0m in \u001b[0;36m<cell line: 2>\u001b[0;34m()\u001b[0m\n\u001b[1;32m      1\u001b[0m \u001b[0;31m# Stack tensors on top of each other\u001b[0m\u001b[0;34m\u001b[0m\u001b[0;34m\u001b[0m\u001b[0m\n\u001b[0;32m----> 2\u001b[0;31m \u001b[0mx_stacked\u001b[0m \u001b[0;34m=\u001b[0m \u001b[0mtorch\u001b[0m\u001b[0;34m.\u001b[0m\u001b[0mstack\u001b[0m\u001b[0;34m(\u001b[0m\u001b[0;34m[\u001b[0m\u001b[0mx\u001b[0m\u001b[0;34m,\u001b[0m \u001b[0mx\u001b[0m\u001b[0;34m,\u001b[0m \u001b[0mx\u001b[0m\u001b[0;34m,\u001b[0m \u001b[0mx\u001b[0m\u001b[0;34m]\u001b[0m\u001b[0;34m,\u001b[0m \u001b[0mdim\u001b[0m\u001b[0;34m=\u001b[0m\u001b[0;36m0\u001b[0m\u001b[0;34m)\u001b[0m \u001b[0;31m# try changing dim to dim=1 and see what happens\u001b[0m\u001b[0;34m\u001b[0m\u001b[0;34m\u001b[0m\u001b[0m\n\u001b[0m\u001b[1;32m      3\u001b[0m \u001b[0mx_stacked\u001b[0m\u001b[0;34m\u001b[0m\u001b[0;34m\u001b[0m\u001b[0m\n",
            "\u001b[0;31mNameError\u001b[0m: name 'x' is not defined"
          ]
        }
      ]
    },
    {
      "cell_type": "markdown",
      "source": [
        "How about removing all single dimensions from a tensor?\n",
        "\n",
        "To do so you can use `torch.squeeze()`, (you can remember this as *squeezing* the tensor to only have dimensions over 1)."
      ],
      "metadata": {
        "id": "GS4hNhpJ6fkM"
      }
    },
    {
      "cell_type": "code",
      "source": [
        "print(f\"Previous tensor: {x_reshaped}\")\n",
        "print(f\"Previous shape: {x_reshaped.shape}\")\n",
        "\n",
        "# Remove extra dimension from x_reshaped\n",
        "x_squeezed = x_reshaped.squeeze()\n",
        "print(f\"\\nNew tensor: {x_squeezed}\")\n",
        "print(f\"New shape: {x_squeezed.shape}\")"
      ],
      "metadata": {
        "id": "C8Zh345x6Zdh",
        "colab": {
          "base_uri": "https://localhost:8080/"
        },
        "outputId": "88a85346-4bf8-4b7d-b5e8-c41c647f7b36"
      },
      "execution_count": null,
      "outputs": [
        {
          "output_type": "stream",
          "name": "stdout",
          "text": [
            "Previous tensor: tensor([[5., 2., 3., 4., 5., 6., 7.]])\n",
            "Previous shape: torch.Size([1, 7])\n",
            "\n",
            "New tensor: tensor([5., 2., 3., 4., 5., 6., 7.])\n",
            "New shape: torch.Size([7])\n"
          ]
        }
      ]
    },
    {
      "cell_type": "markdown",
      "source": [
        "You can also rearrange the order of axes values with `torch.permute(input, dims)`, where the input gets turned into a view with new dims."
      ],
      "metadata": {
        "id": "LQuMV8i-6qFx"
      }
    },
    {
      "cell_type": "code",
      "source": [
        "# Create tensor with specific shape\n",
        "x_original = torch.rand(size=(224, 224, 3))\n",
        "\n",
        "# Permute the original tensor to rearrange the axis order\n",
        "x_permuted = x_original.permute(2, 0, 1) # shifts axis 0->1, 1->2, 2->0\n",
        "\n",
        "print(f\"Previous shape: {x_original.shape}\")\n",
        "print(f\"New shape: {x_permuted.shape}\")"
      ],
      "metadata": {
        "colab": {
          "base_uri": "https://localhost:8080/"
        },
        "id": "UOHd0xTZ6kEW",
        "outputId": "97a6b0e7-3234-4c9b-a1d1-9bcc704f8425"
      },
      "execution_count": null,
      "outputs": [
        {
          "output_type": "stream",
          "name": "stdout",
          "text": [
            "Previous shape: torch.Size([224, 224, 3])\n",
            "New shape: torch.Size([3, 224, 224])\n"
          ]
        }
      ]
    },
    {
      "cell_type": "markdown",
      "source": [
        "## Indexing (selecting data from tensors)\n",
        "\n",
        "Sometimes you'll want to select specific data from tensors (for example, only the first column or second row).\n",
        "\n",
        "To do so, you can use indexing. If you've ever done indexing on Python lists or NumPy arrays, indexing in PyTorch with tensors is very similar."
      ],
      "metadata": {
        "id": "mPIvex3j6zYC"
      }
    },
    {
      "cell_type": "code",
      "source": [
        "# Create a tensor\n",
        "import torch\n",
        "x = torch.arange(1, 19).reshape(2, 3, 3)\n",
        "x, x.shape"
      ],
      "metadata": {
        "colab": {
          "base_uri": "https://localhost:8080/"
        },
        "id": "MdunFNn56tIV",
        "outputId": "b96ffd8b-4a72-4105-b13d-dd69f3d20b93"
      },
      "execution_count": null,
      "outputs": [
        {
          "output_type": "execute_result",
          "data": {
            "text/plain": [
              "(tensor([[[ 1,  2,  3],\n",
              "          [ 4,  5,  6],\n",
              "          [ 7,  8,  9]],\n",
              " \n",
              "         [[10, 11, 12],\n",
              "          [13, 14, 15],\n",
              "          [16, 17, 18]]]),\n",
              " torch.Size([2, 3, 3]))"
            ]
          },
          "metadata": {},
          "execution_count": 9
        }
      ]
    },
    {
      "cell_type": "markdown",
      "source": [
        "Indexing values goes outer dimension -> inner dimension (check out the square brackets)."
      ],
      "metadata": {
        "id": "UG7_jE7q9Yv6"
      }
    },
    {
      "cell_type": "code",
      "source": [
        "# Let's index bracket by bracket\n",
        "print(f\"First square bracket:\\n{x[0]}\")\n",
        "print(f\"Second square bracket: {x[0][0]}\")\n",
        "print(f\"Third square bracket: {x[0][0][0]}\")"
      ],
      "metadata": {
        "colab": {
          "base_uri": "https://localhost:8080/"
        },
        "id": "FZemZnIa9Tai",
        "outputId": "552323a9-db2f-4673-f5ef-b802217952f2"
      },
      "execution_count": null,
      "outputs": [
        {
          "output_type": "stream",
          "name": "stdout",
          "text": [
            "First square bracket:\n",
            "tensor([[1, 2, 3],\n",
            "        [4, 5, 6],\n",
            "        [7, 8, 9]])\n",
            "Second square bracket: tensor([1, 2, 3])\n",
            "Third square bracket: 1\n"
          ]
        }
      ]
    },
    {
      "cell_type": "code",
      "source": [
        "# Get all values of 0th dimension and the 0 index of 1st dimension\n",
        "x[:, 0]"
      ],
      "metadata": {
        "colab": {
          "base_uri": "https://localhost:8080/"
        },
        "id": "3BiWwx7J9cnA",
        "outputId": "81e3c426-291b-4cfc-d1ad-c681aeb8e2ac"
      },
      "execution_count": null,
      "outputs": [
        {
          "output_type": "execute_result",
          "data": {
            "text/plain": [
              "tensor([[ 1,  2,  3],\n",
              "        [10, 11, 12]])"
            ]
          },
          "metadata": {},
          "execution_count": 12
        }
      ]
    },
    {
      "cell_type": "code",
      "source": [
        "# Get all values of 0th & 1st dimensions but only index 1 of 2nd dimension\n",
        "x[:, :, 1]"
      ],
      "metadata": {
        "colab": {
          "base_uri": "https://localhost:8080/"
        },
        "id": "OhCqOWBT9hso",
        "outputId": "da4aa186-a1a7-438d-c2a2-0be91c64405a"
      },
      "execution_count": null,
      "outputs": [
        {
          "output_type": "execute_result",
          "data": {
            "text/plain": [
              "tensor([[ 2,  5,  8],\n",
              "        [11, 14, 17]])"
            ]
          },
          "metadata": {},
          "execution_count": 13
        }
      ]
    },
    {
      "cell_type": "code",
      "source": [
        "# Get all values of the 0 dimension but only the 1 index value of the 1st and 2nd dimension\n",
        "x[:, 1, 1]"
      ],
      "metadata": {
        "colab": {
          "base_uri": "https://localhost:8080/"
        },
        "id": "qW4OtpNI9mjy",
        "outputId": "98f81f0a-effc-416d-8099-760de11449b6"
      },
      "execution_count": null,
      "outputs": [
        {
          "output_type": "execute_result",
          "data": {
            "text/plain": [
              "tensor([ 5, 14])"
            ]
          },
          "metadata": {},
          "execution_count": 14
        }
      ]
    },
    {
      "cell_type": "code",
      "source": [
        "# Get index 0 of 0th and 1st dimension and all values of 2nd dimension\n",
        "x[0, 0, :] # same as x[0][0]"
      ],
      "metadata": {
        "colab": {
          "base_uri": "https://localhost:8080/"
        },
        "id": "CJOxmohz9pVy",
        "outputId": "94e3a2f0-b7a8-4aeb-f49c-0e8f93c3fe58"
      },
      "execution_count": null,
      "outputs": [
        {
          "output_type": "execute_result",
          "data": {
            "text/plain": [
              "tensor([1, 2, 3])"
            ]
          },
          "metadata": {},
          "execution_count": 15
        }
      ]
    },
    {
      "cell_type": "markdown",
      "source": [
        "**<span style=\"color:red\">Exercise 1</span>:** Write the code to\n",
        "- Create a random 2D tensor X with dimension [32,10] (i.e., batch size = 32 and #features = 10).\n",
        "- Create a random weight matrix W with dimension [10,2] and random bias b with dimension [1,2].\n",
        "- Do the computation y = XW + b and pred_probs = softmax(y)."
      ],
      "metadata": {
        "id": "t-OlWFZ5EmWs"
      }
    },
    {
      "cell_type": "code",
      "source": [
        "#Your answer here\n",
        "X = torch.rand(32,10)\n",
        "W = torch.rand(10,2)\n",
        "b = torch.rand(1,2)\n",
        "y = X@W + b\n",
        "pred_probs = torch.nn.functional.softmax(y, dim =1)\n",
        "print(y)\n",
        "print(pred_probs)"
      ],
      "metadata": {
        "id": "htz2nX8DFnmv",
        "colab": {
          "base_uri": "https://localhost:8080/"
        },
        "outputId": "4a9b4ab8-4c26-42d5-ca8e-bc8a2e5c5f97"
      },
      "execution_count": null,
      "outputs": [
        {
          "output_type": "stream",
          "name": "stdout",
          "text": [
            "tensor([[3.9280, 3.7419],\n",
            "        [4.4760, 3.4386],\n",
            "        [3.9935, 3.0428],\n",
            "        [3.1070, 2.9910],\n",
            "        [4.5176, 3.1744],\n",
            "        [4.2931, 3.2387],\n",
            "        [4.1238, 2.5947],\n",
            "        [3.9920, 2.3232],\n",
            "        [3.9929, 2.8354],\n",
            "        [2.5538, 2.6940],\n",
            "        [3.4423, 2.9238],\n",
            "        [3.4218, 3.4819],\n",
            "        [2.3185, 2.0752],\n",
            "        [3.5383, 2.1712],\n",
            "        [4.5011, 3.9945],\n",
            "        [3.2103, 2.8546],\n",
            "        [4.3674, 2.8571],\n",
            "        [4.0535, 2.5425],\n",
            "        [3.5923, 3.3916],\n",
            "        [4.0700, 3.1735],\n",
            "        [3.3815, 3.3613],\n",
            "        [3.9620, 2.8113],\n",
            "        [3.2280, 1.9424],\n",
            "        [4.5963, 3.0943],\n",
            "        [2.4367, 2.1230],\n",
            "        [3.9404, 3.8905],\n",
            "        [4.1113, 3.4705],\n",
            "        [3.2158, 3.2339],\n",
            "        [3.7316, 3.0438],\n",
            "        [3.3216, 2.9143],\n",
            "        [2.7924, 2.9424],\n",
            "        [3.1873, 2.5137]])\n",
            "tensor([[0.5464, 0.4536],\n",
            "        [0.7383, 0.2617],\n",
            "        [0.7213, 0.2787],\n",
            "        [0.5290, 0.4710],\n",
            "        [0.7930, 0.2070],\n",
            "        [0.7416, 0.2584],\n",
            "        [0.8219, 0.1781],\n",
            "        [0.8414, 0.1586],\n",
            "        [0.7609, 0.2391],\n",
            "        [0.4650, 0.5350],\n",
            "        [0.6268, 0.3732],\n",
            "        [0.4850, 0.5150],\n",
            "        [0.5605, 0.4395],\n",
            "        [0.7969, 0.2031],\n",
            "        [0.6240, 0.3760],\n",
            "        [0.5880, 0.4120],\n",
            "        [0.8191, 0.1809],\n",
            "        [0.8192, 0.1808],\n",
            "        [0.5500, 0.4500],\n",
            "        [0.7102, 0.2898],\n",
            "        [0.5050, 0.4950],\n",
            "        [0.7596, 0.2404],\n",
            "        [0.7834, 0.2166],\n",
            "        [0.8179, 0.1821],\n",
            "        [0.5778, 0.4222],\n",
            "        [0.5125, 0.4875],\n",
            "        [0.6549, 0.3451],\n",
            "        [0.4955, 0.5045],\n",
            "        [0.6655, 0.3345],\n",
            "        [0.6004, 0.3996],\n",
            "        [0.4626, 0.5374],\n",
            "        [0.6623, 0.3377]])\n"
          ]
        }
      ]
    },
    {
      "cell_type": "markdown",
      "source": [
        "----\n",
        "\n",
        "**The end**"
      ],
      "metadata": {
        "id": "wiHWYcS8EZjd"
      }
    },
    {
      "cell_type": "code",
      "source": [],
      "metadata": {
        "id": "XOpBP_bi3RIa"
      },
      "execution_count": null,
      "outputs": []
    }
  ]
}