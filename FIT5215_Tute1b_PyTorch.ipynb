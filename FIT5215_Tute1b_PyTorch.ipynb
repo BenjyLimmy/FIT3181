{
  "cells": [
    {
      "cell_type": "markdown",
      "metadata": {
        "id": "view-in-github",
        "colab_type": "text"
      },
      "source": [
        "<a href=\"https://colab.research.google.com/github/BenjyLimmy/FIT3181/blob/main/FIT5215_Tute1b_PyTorch.ipynb\" target=\"_parent\"><img src=\"https://colab.research.google.com/assets/colab-badge.svg\" alt=\"Open In Colab\"/></a>"
      ]
    },
    {
      "cell_type": "markdown",
      "metadata": {
        "id": "UsbuejjOgQUa"
      },
      "source": [
        "# <span style=\"color:#0b486b\">  FIT3181/5215: Deep Learning (2024)</span>\n",
        "***\n",
        "*CE/Lecturer (Clayton):*  **Dr Trung Le** | trunglm@monash.edu <br/>\n",
        "*Lecturer (Clayton):* **Prof Dinh Phung** | dinh.phung@monash.edu <br/>\n",
        "*Lecturer (Malaysia):*  **Dr Arghya Pal** | arghya.pal@monash.edu <br/>\n",
        "*Lecturer (Malaysia):*  **Dr Lim Chern Hong** | lim.chernhong@monash.edu <br/>  <br/>\n",
        "*Head Tutor 3181:*  **Miss Vy Vo** |  \\[tran.vo@monash.edu \\] <br/>\n",
        "*Head Tutor 5215:*  **Dr Van Nguyen** |  \\[van.nguyen1@monash.edu \\]\n",
        "\n",
        "<br/> <br/>\n",
        "Faculty of Information Technology, Monash University, Australia\n",
        "***"
      ]
    },
    {
      "cell_type": "markdown",
      "metadata": {
        "id": "FfD8qvjPgZyh"
      },
      "source": [
        "# Tutorial 1b: Logistic Regression with PyTorch\n",
        "\n",
        "\n",
        "This tutorial aims to introduce the Logistic Regression which can be regarded as a feed-forward neural network with one layer."
      ]
    },
    {
      "cell_type": "markdown",
      "metadata": {
        "id": "ibELGzvaikdK"
      },
      "source": [
        "## Import Necessary Libraries"
      ]
    },
    {
      "cell_type": "code",
      "execution_count": null,
      "metadata": {
        "id": "4KvWnbflf5da"
      },
      "outputs": [],
      "source": [
        "import torch\n",
        "import torch.nn as nn\n",
        "import numpy as np\n",
        "from sklearn import datasets\n",
        "from sklearn.preprocessing import StandardScaler  # for feature scaling\n",
        "from sklearn.model_selection import train_test_split  # for train/test split"
      ]
    },
    {
      "cell_type": "markdown",
      "metadata": {
        "id": "IogwAZF7jD30"
      },
      "source": [
        "## Prepare Data"
      ]
    },
    {
      "cell_type": "markdown",
      "metadata": {
        "id": "edfcjVt7jmND"
      },
      "source": [
        "We first load the `breast cancer` dataset from `sklean` datasets and then split into 80% for training and 20% for testing."
      ]
    },
    {
      "cell_type": "code",
      "execution_count": null,
      "metadata": {
        "colab": {
          "base_uri": "https://localhost:8080/"
        },
        "id": "GzXzzS1cgqnA",
        "outputId": "c77a4dab-ef5b-4083-a865-6a8b399491d7"
      },
      "outputs": [
        {
          "output_type": "stream",
          "name": "stdout",
          "text": [
            "number of samples: 569, number of features: 30\n"
          ]
        }
      ],
      "source": [
        "# Prepare data\n",
        "bc = datasets.load_breast_cancer()\n",
        "X, y = bc.data, bc.target\n",
        "\n",
        "n_samples, n_features = X.shape\n",
        "print(f'number of samples: {n_samples}, number of features: {n_features}')\n",
        "\n",
        "# split data to 80% for training and 20% for testing\n",
        "X_train, X_test, y_train, y_test = train_test_split(X, y, test_size=0.2, random_state=1234)\n"
      ]
    },
    {
      "cell_type": "markdown",
      "metadata": {
        "id": "cw7fZ63623i_"
      },
      "source": [
        "**<span style=\"color:red\">Exercise 1</span>:** Write the code to print out the first 10 feature vectors in `X_train` and `y_train`. Write the code to show the unique labels in `y_train`."
      ]
    },
    {
      "cell_type": "code",
      "execution_count": null,
      "metadata": {
        "id": "N-mi6wAT6Iav",
        "colab": {
          "base_uri": "https://localhost:8080/"
        },
        "outputId": "e7498861-0118-4b4f-9644-bc437459a888"
      },
      "outputs": [
        {
          "output_type": "stream",
          "name": "stdout",
          "text": [
            "[[1.288e+01 1.822e+01 8.445e+01 4.931e+02 1.218e-01 1.661e-01 4.825e-02\n",
            "  5.303e-02 1.709e-01 7.253e-02 4.426e-01 1.169e+00 3.176e+00 3.437e+01\n",
            "  5.273e-03 2.329e-02 1.405e-02 1.244e-02 1.816e-02 3.299e-03 1.505e+01\n",
            "  2.437e+01 9.931e+01 6.747e+02 1.456e-01 2.961e-01 1.246e-01 1.096e-01\n",
            "  2.582e-01 8.893e-02]\n",
            " [1.113e+01 2.244e+01 7.149e+01 3.784e+02 9.566e-02 8.194e-02 4.824e-02\n",
            "  2.257e-02 2.030e-01 6.552e-02 2.800e-01 1.467e+00 1.994e+00 1.785e+01\n",
            "  3.495e-03 3.051e-02 3.445e-02 1.024e-02 2.912e-02 4.723e-03 1.202e+01\n",
            "  2.826e+01 7.780e+01 4.366e+02 1.087e-01 1.782e-01 1.564e-01 6.413e-02\n",
            "  3.169e-01 8.032e-02]\n",
            " [1.263e+01 2.076e+01 8.215e+01 4.804e+02 9.933e-02 1.209e-01 1.065e-01\n",
            "  6.021e-02 1.735e-01 7.070e-02 3.424e-01 1.803e+00 2.711e+00 2.048e+01\n",
            "  1.291e-02 4.042e-02 5.101e-02 2.295e-02 2.144e-02 5.891e-03 1.333e+01\n",
            "  2.547e+01 8.900e+01 5.274e+02 1.287e-01 2.250e-01 2.216e-01 1.105e-01\n",
            "  2.226e-01 8.486e-02]\n",
            " [1.268e+01 2.384e+01 8.269e+01 4.990e+02 1.122e-01 1.262e-01 1.128e-01\n",
            "  6.873e-02 1.905e-01 6.590e-02 4.255e-01 1.178e+00 2.927e+00 3.646e+01\n",
            "  7.781e-03 2.648e-02 2.973e-02 1.290e-02 1.635e-02 3.601e-03 1.709e+01\n",
            "  3.347e+01 1.118e+02 8.883e+02 1.851e-01 4.061e-01 4.024e-01 1.716e-01\n",
            "  3.383e-01 1.031e-01]\n",
            " [1.057e+01 1.832e+01 6.682e+01 3.409e+02 8.142e-02 4.462e-02 1.993e-02\n",
            "  1.111e-02 2.372e-01 5.768e-02 1.818e-01 2.542e+00 1.277e+00 1.312e+01\n",
            "  1.072e-02 1.331e-02 1.993e-02 1.111e-02 1.717e-02 4.492e-03 1.094e+01\n",
            "  2.331e+01 6.935e+01 3.663e+02 9.794e-02 6.542e-02 3.986e-02 2.222e-02\n",
            "  2.699e-01 6.736e-02]\n",
            " [1.625e+01 1.951e+01 1.098e+02 8.158e+02 1.026e-01 1.893e-01 2.236e-01\n",
            "  9.194e-02 2.151e-01 6.578e-02 3.147e-01 9.857e-01 3.070e+00 3.312e+01\n",
            "  9.197e-03 5.470e-02 8.079e-02 2.215e-02 2.773e-02 6.355e-03 1.739e+01\n",
            "  2.305e+01 1.221e+02 9.397e+02 1.377e-01 4.462e-01 5.897e-01 1.775e-01\n",
            "  3.318e-01 9.136e-02]\n",
            " [1.113e+01 1.662e+01 7.047e+01 3.811e+02 8.151e-02 3.834e-02 1.369e-02\n",
            "  1.370e-02 1.511e-01 6.148e-02 1.415e-01 9.671e-01 9.680e-01 9.704e+00\n",
            "  5.883e-03 6.263e-03 9.398e-03 6.189e-03 2.009e-02 2.377e-03 1.168e+01\n",
            "  2.029e+01 7.435e+01 4.211e+02 1.030e-01 6.219e-02 4.580e-02 4.044e-02\n",
            "  2.383e-01 7.083e-02]\n",
            " [1.359e+01 1.784e+01 8.624e+01 5.723e+02 7.948e-02 4.052e-02 1.997e-02\n",
            "  1.238e-02 1.573e-01 5.520e-02 2.580e-01 1.166e+00 1.683e+00 2.222e+01\n",
            "  3.741e-03 5.274e-03 1.065e-02 5.044e-03 1.344e-02 1.126e-03 1.550e+01\n",
            "  2.610e+01 9.891e+01 7.391e+02 1.050e-01 7.622e-02 1.060e-01 5.185e-02\n",
            "  2.335e-01 6.263e-02]\n",
            " [1.116e+01 2.141e+01 7.095e+01 3.803e+02 1.018e-01 5.978e-02 8.955e-03\n",
            "  1.076e-02 1.615e-01 6.144e-02 2.865e-01 1.678e+00 1.968e+00 1.899e+01\n",
            "  6.908e-03 9.442e-03 6.972e-03 6.159e-03 2.694e-02 2.060e-03 1.236e+01\n",
            "  2.892e+01 7.926e+01 4.580e+02 1.282e-01 1.108e-01 3.582e-02 4.306e-02\n",
            "  2.976e-01 7.123e-02]\n",
            " [1.106e+01 1.496e+01 7.149e+01 3.739e+02 1.033e-01 9.097e-02 5.397e-02\n",
            "  3.341e-02 1.776e-01 6.907e-02 1.601e-01 8.225e-01 1.355e+00 1.080e+01\n",
            "  7.416e-03 1.877e-02 2.758e-02 1.010e-02 2.348e-02 2.917e-03 1.192e+01\n",
            "  1.990e+01 7.976e+01 4.400e+02 1.418e-01 2.210e-01 2.299e-01 1.075e-01\n",
            "  3.301e-01 9.080e-02]]\n",
            "[1 1 1 0 1 0 1 1 1 1]\n",
            "[0 1]\n"
          ]
        }
      ],
      "source": [
        "#Your answer here\n",
        "print(X_train[0:10])\n",
        "print(y_train[0:10])\n",
        "print(np.unique(y_train))\n"
      ]
    },
    {
      "cell_type": "markdown",
      "metadata": {
        "id": "bb0to6spkf30"
      },
      "source": [
        "We use `StandardScaler()` from `sklearn` to normalize the training/testing sets. We convert the training/testing numpy arrays to PyTorch arrays and then reshape them."
      ]
    },
    {
      "cell_type": "code",
      "execution_count": null,
      "metadata": {
        "id": "jo8WXCEBjQ2H"
      },
      "outputs": [],
      "source": [
        "# scale data\n",
        "sc = StandardScaler()\n",
        "X_train = sc.fit_transform(X_train)\n",
        "X_test = sc.transform(X_test)\n",
        "\n",
        "# convert to tensors\n",
        "X_train = torch.from_numpy(X_train.astype(np.float32))\n",
        "X_test = torch.from_numpy(X_test.astype(np.float32))\n",
        "y_train = torch.from_numpy(y_train.astype(np.int64))\n",
        "y_test = torch.from_numpy(y_test.astype(np.int64))\n"
      ]
    },
    {
      "cell_type": "markdown",
      "metadata": {
        "id": "H3FScpK3nrsW"
      },
      "source": [
        "## Training/Testing Procedure\n",
        "\n",
        "We now present the `fundamental workflow of PyTorch` including training a model based on the training set and testing the trained model on the testing set. This fundamental workflow is the same for various PyTorch models."
      ]
    },
    {
      "cell_type": "markdown",
      "metadata": {
        "id": "O9TmWoxulW4j"
      },
      "source": [
        "### Prepare Model\n",
        "\n",
        "First, we need to declare and define a model, which is a computational graph showing how to compute the model output from the input vector $x$. Specifically, given a data point $x$ (i.e., [1,30]) a batch $x$ (i.e., [64,30]), or even the entire training set $x$ (i.e., [569,30]), we compute\n",
        "- logits = xW + b\n",
        "- pred_probs = softmax(logits)"
      ]
    },
    {
      "cell_type": "code",
      "execution_count": null,
      "metadata": {
        "id": "8VeNzXPcjR_-"
      },
      "outputs": [],
      "source": [
        "# Create model\n",
        "# f = wx + b, softmax at the end\n",
        "class LogisticRegression(nn.Module):\n",
        "\n",
        "    def __init__(self, n_input_features):\n",
        "        super(LogisticRegression, self).__init__()\n",
        "        self.linear = nn.Linear(n_input_features, 2)\n",
        "\n",
        "    def forward(self, x):\n",
        "        logits = self.linear(x)\n",
        "        pred_probs = torch.nn.Softmax(dim=-1)(logits) #for asking question only\n",
        "        return logits #return the logits\n",
        "\n",
        "device = torch.device(\"cuda:0\" if torch.cuda.is_available() else \"cpu\")\n",
        "model = LogisticRegression(n_features).to(device)  #load the model to the current device"
      ]
    },
    {
      "cell_type": "markdown",
      "metadata": {
        "id": "CvtTrPQ0DT7g"
      },
      "source": [
        "**<span style=\"color:red\">Exercise 2</span>:** Explain the forward function. What are the meanings and dimensions of `logits` and `pred_probs`?"
      ]
    },
    {
      "cell_type": "markdown",
      "source": [
        "Given a mini-batch $x$, `logits` represents the logits/discriminative scores/values of data points in the batch, while `pred_probs` represents the prediction probabilities of data points in the batch"
      ],
      "metadata": {
        "id": "CvHiTin0l1NY"
      }
    },
    {
      "cell_type": "markdown",
      "metadata": {
        "id": "179EXh3XmDqe"
      },
      "source": [
        "### Prepare Loss and Optimizer"
      ]
    },
    {
      "cell_type": "markdown",
      "metadata": {
        "id": "9rSEFHvn4NAq"
      },
      "source": [
        "We declare `loss_fn` as the cross entropy loss. To train our logistic regression, we invoke the SGD optimizer with the learning rate $0.01$."
      ]
    },
    {
      "cell_type": "code",
      "execution_count": null,
      "metadata": {
        "id": "9NvIujMFlyP3"
      },
      "outputs": [],
      "source": [
        "# Loss and optimizer\n",
        "learning_rate = 0.01\n",
        "loss_fn = nn.CrossEntropyLoss()\n",
        "optimizer = torch.optim.SGD(model.parameters(), lr=learning_rate)"
      ]
    },
    {
      "cell_type": "code",
      "source": [
        "print(y_train.shape, y_train.squeeze().shape)"
      ],
      "metadata": {
        "id": "Ogg8TSQOL1E6",
        "outputId": "1daecb18-b982-4610-8c0d-35166fda45a4",
        "colab": {
          "base_uri": "https://localhost:8080/"
        }
      },
      "execution_count": null,
      "outputs": [
        {
          "output_type": "stream",
          "name": "stdout",
          "text": [
            "torch.Size([455]) torch.Size([455])\n"
          ]
        }
      ]
    },
    {
      "cell_type": "markdown",
      "metadata": {
        "id": "86QKl-TfmqQV"
      },
      "source": [
        "### Train Model By Feeding the Training Set All-in-Once"
      ]
    },
    {
      "cell_type": "markdown",
      "metadata": {
        "id": "dPRYtcCl8vcl"
      },
      "source": [
        "We train the model in $200$ epochs (i.e., going through the entire training set $100$ times). Here in each epoch, we input entire training set to the model to compute the cross-entropy loss over the training set and then use the optimizer to update the model parameters (i.e., W and b)."
      ]
    },
    {
      "cell_type": "code",
      "execution_count": null,
      "metadata": {
        "colab": {
          "base_uri": "https://localhost:8080/"
        },
        "id": "0I_P8kWLl9Da",
        "outputId": "f313b467-5fbc-44e0-bffc-10a7fb05708c"
      },
      "outputs": [
        {
          "output_type": "stream",
          "name": "stdout",
          "text": [
            "epoch: 10, loss = 0.3830\n",
            "epoch: 20, loss = 0.3133\n",
            "epoch: 30, loss = 0.2722\n",
            "epoch: 40, loss = 0.2447\n",
            "epoch: 50, loss = 0.2247\n",
            "epoch: 60, loss = 0.2093\n",
            "epoch: 70, loss = 0.1971\n",
            "epoch: 80, loss = 0.1870\n",
            "epoch: 90, loss = 0.1785\n",
            "epoch: 100, loss = 0.1712\n",
            "epoch: 110, loss = 0.1649\n",
            "epoch: 120, loss = 0.1593\n",
            "epoch: 130, loss = 0.1543\n",
            "epoch: 140, loss = 0.1498\n",
            "epoch: 150, loss = 0.1458\n",
            "epoch: 160, loss = 0.1421\n",
            "epoch: 170, loss = 0.1387\n",
            "epoch: 180, loss = 0.1356\n",
            "epoch: 190, loss = 0.1328\n",
            "epoch: 200, loss = 0.1301\n"
          ]
        }
      ],
      "source": [
        "# training loop\n",
        "num_epochs = 200\n",
        "\n",
        "for epoch in range(num_epochs):\n",
        "    # forward pass and loss\n",
        "    X_train, y_train = X_train.to(device), y_train.to(device) #load the data to device (GPU or CPU)\n",
        "    logits = model(X_train)\n",
        "\n",
        "    loss = loss_fn(logits, y_train.squeeze().long())\n",
        "\n",
        "    # backward pass to compute the gradient\n",
        "    loss.backward()\n",
        "\n",
        "    # updates the model parameter based on the gradient\n",
        "    optimizer.step()\n",
        "\n",
        "    # zero gradients\n",
        "    optimizer.zero_grad()\n",
        "\n",
        "    if (epoch+1) % 10 == 0:\n",
        "        print(f'epoch: {epoch+1}, loss = {loss.item():.4f}')"
      ]
    },
    {
      "cell_type": "markdown",
      "metadata": {
        "id": "-ewm-p0dnIYw"
      },
      "source": [
        "### Evaluate Trained Model on Testing Set"
      ]
    },
    {
      "cell_type": "markdown",
      "metadata": {
        "id": "8j8AlzmY92no"
      },
      "source": [
        "We compute the accuracy on the testing set (i.e., the testing accuracy)."
      ]
    },
    {
      "cell_type": "code",
      "source": [
        "# Ensure the model is in evaluation mode\n",
        "model.eval()\n",
        "\n",
        "# Disable gradient calculation\n",
        "with torch.no_grad():\n",
        "    # Load the data to the device (GPU or CPU)\n",
        "    X_test, y_test = X_test.to(device), y_test.to(device)\n",
        "    # Get the model's predictions\n",
        "    logits = model(X_test.type(torch.float32))\n",
        "    # Compute the predicted class\n",
        "    y_predicted = torch.argmax(logits, dim=1)\n",
        "\n",
        "    # Calculate the number of correct predictions\n",
        "    corrects = (y_predicted == y_test).sum().item()\n",
        "    print(f'correct = {corrects}')\n",
        "\n",
        "    # Get the total number of samples\n",
        "    totals = y_test.size(0)\n",
        "    print(f'totals = {totals}')\n",
        "\n",
        "    # Compute the accuracy\n",
        "    acc = corrects / totals\n",
        "    print(f'accuracy = {acc * 100:.2f}%')\n"
      ],
      "metadata": {
        "colab": {
          "base_uri": "https://localhost:8080/"
        },
        "id": "QUO6rdh3AVVg",
        "outputId": "791a2c75-aeaa-4cf0-b9ba-c1f1ef7b7dd7"
      },
      "execution_count": null,
      "outputs": [
        {
          "output_type": "stream",
          "name": "stdout",
          "text": [
            "correct = 103\n",
            "totals = 114\n",
            "accuracy = 90.35%\n"
          ]
        }
      ]
    },
    {
      "cell_type": "markdown",
      "metadata": {
        "id": "-xs8K0n1_-fY"
      },
      "source": [
        "**<span style=\"color:red\">Exercise 3</span>:** Explain the code above to compute the testing accuracy. What are `logits` and `y_predicted`?"
      ]
    },
    {
      "cell_type": "markdown",
      "source": [
        "`logits` is a 2D tensor of the shape $[114,2]$ in which each row is the logits of a data point in the testing set. `y_predicted` is a 1D tensor that contains the predicted labels of the data points in the testing set. You can print out the values of `logits` and `y_predicted` for more information."
      ],
      "metadata": {
        "id": "frNq41a-mcGh"
      }
    },
    {
      "cell_type": "markdown",
      "metadata": {
        "id": "Gvzd5_3YBJ7d"
      },
      "source": [
        "**<span style=\"color:red\">Exercise 4</span>:** Package the above code in a function, allowing you to try with different learning rates. Then, train the logistic regression models with different learning rates (i.e., 0.05, 0.04, 0.005, 0.001) and observe the loss tendency and testing accuracies."
      ]
    },
    {
      "cell_type": "code",
      "execution_count": null,
      "metadata": {
        "id": "e9U178KPMmKe"
      },
      "outputs": [],
      "source": [
        "#Your answer here\n",
        "device = torch.device(\"cuda:0\" if torch.cuda.is_available() else \"cpu\")\n",
        "def train(X_train, y_train,learning_rate, num_epochs=20):\n",
        "  model = LogisticRegression(n_features).to(device)  #load the model to the current device\n",
        "  # Loss and optimizer\n",
        "  loss_fn = nn.CrossEntropyLoss()\n",
        "  optimizer = torch.optim.SGD(model.parameters(), lr=learning_rate)\n",
        "  X_train, y_train = X_train.to(device), y_train.to(device) #load the data to device (GPU or CPU)\n",
        "  # training loop\n",
        "  for epoch in range(num_epochs):\n",
        "    # forward pass and loss\n",
        "    logits = model(X_train)\n",
        "    loss = loss_fn(logits, y_train.squeeze().long())\n",
        "    # backward pass to compute the gradient\n",
        "    loss.backward()\n",
        "    # updates the model parameter based on the gradient\n",
        "    optimizer.step()\n",
        "    # zero gradients\n",
        "    optimizer.zero_grad()\n",
        "    if (epoch+1) % 10 == 0:\n",
        "        print(f'epoch: {epoch+1}, loss = {loss.item():.4f}')\n",
        "\n",
        "\n",
        "\n"
      ]
    },
    {
      "cell_type": "code",
      "source": [
        "for lr in [0.05, 0.04, 0.005, 0.001]:\n",
        "  print(f'learning rate = {lr}')\n",
        "  train(X_train, y_train, lr, num_epochs=50)\n",
        "  print(\"---------------------------------------\")"
      ],
      "metadata": {
        "colab": {
          "base_uri": "https://localhost:8080/"
        },
        "id": "rDq3Vpn9nvsq",
        "outputId": "64c59122-3068-4d64-ec69-8cf8b0541900"
      },
      "execution_count": null,
      "outputs": [
        {
          "output_type": "stream",
          "name": "stdout",
          "text": [
            "learning rate = 0.05\n",
            "epoch: 10, loss = 0.2323\n",
            "epoch: 20, loss = 0.1666\n",
            "epoch: 30, loss = 0.1393\n",
            "epoch: 40, loss = 0.1234\n",
            "epoch: 50, loss = 0.1126\n",
            "---------------------------------------\n",
            "learning rate = 0.04\n",
            "epoch: 10, loss = 0.2825\n",
            "epoch: 20, loss = 0.1983\n",
            "epoch: 30, loss = 0.1632\n",
            "epoch: 40, loss = 0.1429\n",
            "epoch: 50, loss = 0.1294\n",
            "---------------------------------------\n",
            "learning rate = 0.005\n",
            "epoch: 10, loss = 0.6406\n",
            "epoch: 20, loss = 0.5263\n",
            "epoch: 30, loss = 0.4535\n",
            "epoch: 40, loss = 0.4030\n",
            "epoch: 50, loss = 0.3658\n",
            "---------------------------------------\n",
            "learning rate = 0.001\n",
            "epoch: 10, loss = 0.4337\n",
            "epoch: 20, loss = 0.4253\n",
            "epoch: 30, loss = 0.4175\n",
            "epoch: 40, loss = 0.4100\n",
            "epoch: 50, loss = 0.4029\n",
            "---------------------------------------\n"
          ]
        }
      ]
    },
    {
      "cell_type": "markdown",
      "metadata": {
        "id": "N1txQokl3Uvf"
      },
      "source": [
        "----\n",
        "\n",
        "**The end**"
      ]
    },
    {
      "cell_type": "code",
      "execution_count": null,
      "metadata": {
        "id": "elDXDgHL3VWY"
      },
      "outputs": [],
      "source": []
    }
  ],
  "metadata": {
    "colab": {
      "provenance": [],
      "include_colab_link": true
    },
    "kernelspec": {
      "display_name": "Python 3",
      "name": "python3"
    },
    "language_info": {
      "name": "python"
    }
  },
  "nbformat": 4,
  "nbformat_minor": 0
}